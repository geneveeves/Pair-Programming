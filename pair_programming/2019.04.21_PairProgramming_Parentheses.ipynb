{
 "cells": [
  {
   "cell_type": "markdown",
   "metadata": {},
   "source": [
    "Pair Problem\n",
    "A version of this problem was faced at a whiteboard by a Metis student in an interview for a data scientist position on April 16, 2015.\n",
    "\n",
    "In programming languages, and especially in Lisps, there can be a lot of parentheses. The parentheses have to be \"balanced\" to be valid. For example, ()(()) is balanced, but ()()) is not balanced. Also, )((()) is not balanced.\n",
    "\n",
    "Write a function that takes a string and returns True if the string's parentheses are balanced, False if they are not.\n",
    "\n",
    "This is fairly easy. Once you are finished, see if you can come up with a second way to solve the problem.\n",
    "\n",
    "Here are examples to test your function with:\n",
    "\n",
    "(()()()()) should return True\n",
    "(((()))) should return True\n",
    "(()((())())) should return True\n",
    "((((((()) should return False\n",
    "())) should return False\n",
    "(()()))(() should return False\n"
   ]
  },
  {
   "cell_type": "code",
   "execution_count": 16,
   "metadata": {},
   "outputs": [],
   "source": [
    "def checkParentheses(string):\n",
    "    count = 0\n",
    "    for char in string:\n",
    "        if char == '(':\n",
    "            count += 1\n",
    "        elif char == ')':\n",
    "            count -= 1  \n",
    "            if count < 0:\n",
    "                break    \n",
    "        \n",
    "    return not count"
   ]
  },
  {
   "cell_type": "code",
   "execution_count": 18,
   "metadata": {},
   "outputs": [
    {
     "data": {
      "text/plain": [
       "False"
      ]
     },
     "execution_count": 18,
     "metadata": {},
     "output_type": "execute_result"
    }
   ],
   "source": [
    "checkParentheses(\"(()()))(()\")"
   ]
  },
  {
   "cell_type": "code",
   "execution_count": null,
   "metadata": {},
   "outputs": [],
   "source": [
    "def checkBrackets(text):\n",
    "    text = re.sub('[^()]', '', text)\n",
    "    #while '()' is in text"
   ]
  },
  {
   "cell_type": "code",
   "execution_count": null,
   "metadata": {},
   "outputs": [],
   "source": []
  },
  {
   "cell_type": "code",
   "execution_count": null,
   "metadata": {},
   "outputs": [],
   "source": []
  }
 ],
 "metadata": {
  "kernelspec": {
   "display_name": "Python 3",
   "language": "python",
   "name": "python3"
  },
  "language_info": {
   "codemirror_mode": {
    "name": "ipython",
    "version": 3
   },
   "file_extension": ".py",
   "mimetype": "text/x-python",
   "name": "python",
   "nbconvert_exporter": "python",
   "pygments_lexer": "ipython3",
   "version": "3.7.2"
  }
 },
 "nbformat": 4,
 "nbformat_minor": 2
}

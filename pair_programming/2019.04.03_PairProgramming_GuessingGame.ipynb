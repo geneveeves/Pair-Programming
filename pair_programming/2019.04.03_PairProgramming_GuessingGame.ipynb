{
 "cells": [
  {
   "cell_type": "markdown",
   "metadata": {},
   "source": [
    "Pair Problem #1\n",
    "For your Metis application you wrote a program that let's the user guess a number between 1 and 100. Can you write a program that does the reverse. Write a function that takes in a number between 1 and 100 and tries to guess it. Based on whether a guess is larger or smaller than the input number, the code would come up with a new guess until it gets it right.\n",
    "\n",
    "\tdef guess(13) would return \"I got it right in 8 tries.\"\n",
    "What's the complexity of your code? Can you do better?\n",
    "\n"
   ]
  },
  {
   "cell_type": "code",
   "execution_count": null,
   "metadata": {},
   "outputs": [],
   "source": [
    "####Binary Search Approach --> start at midpoint\n",
    "#The idea of binary search is to use the information \n",
    "#that the array is sorted and reduce the time complexity to O(Log n)\n",
    "\n",
    "\n",
    "\n",
    "\n"
   ]
  },
  {
   "cell_type": "code",
   "execution_count": null,
   "metadata": {},
   "outputs": [],
   "source": [
    "# From stach overflow, needs editing\n",
    "\n",
    "import random\n",
    "\n",
    "number = int(input('Pick a number between 1 and 100: '))\n",
    "\n",
    "lowBound = 1\n",
    "highBound = 100\n",
    "#randomNumber = random.randint(lowBound,highBound)\n",
    "\n",
    "guess = 50\n",
    "\n",
    "while guess != number:\n",
    "    print (\"Is it \", randomNumber, \" ?\")\n",
    "    response = input()\n",
    "    if response == \"higher\":\n",
    "        lowBound = randomNumber + 1   \n",
    "        randomNumber = random.randint(lowBound,highBound)\n",
    "    elif response == \"lower\":\n",
    "        highBound = randomNumber - 1\n",
    "        randomNumber = random.randint(lowBound,highBound)\n",
    "    elif response == \"yes\":\n",
    "        print (\"Woohooo, I'm so bitchin'\")\n",
    "        break\n",
    "    else:\n",
    "        print ('Huh? \"higher\", \"lower\", or \"yes\" are valid responses.')"
   ]
  },
  {
   "cell_type": "code",
   "execution_count": null,
   "metadata": {},
   "outputs": [],
   "source": [
    "# Python Program for recursive binary search. \n",
    "  \n",
    "# Returns index of x in arr if present, else -1 \n",
    "def binarySearch (arr, l, r, x): \n",
    "  \n",
    "    # Check base case \n",
    "    if r >= l: \n",
    "  \n",
    "        mid = l + (r - l)/2\n",
    "  \n",
    "        # If element is present at the middle itself \n",
    "        if arr[mid] == x: \n",
    "            return mid \n",
    "          \n",
    "        # If element is smaller than mid, then it  \n",
    "        # can only be present in left subarray \n",
    "        elif arr[mid] > x: \n",
    "            return binarySearch(arr, l, mid-1, x) \n",
    "  \n",
    "        # Else the element can only be present  \n",
    "        # in right subarray \n",
    "        else: \n",
    "            return binarySearch(arr, mid + 1, r, x) \n",
    "  \n",
    "    else: \n",
    "        # Element is not present in the array \n",
    "        return -1"
   ]
  },
  {
   "cell_type": "code",
   "execution_count": null,
   "metadata": {},
   "outputs": [],
   "source": [
    "# Python code to implement iterative Binary  \n",
    "# Search. \n",
    "  \n",
    "# It returns location of x in given array arr  \n",
    "# if present, else returns -1 \n",
    "def binarySearch(arr, l, r, x): \n",
    "  \n",
    "    while l <= r: \n",
    "  \n",
    "        mid = l + (r - l)/2; \n",
    "          \n",
    "        # Check if x is present at mid \n",
    "        if arr[mid] == x: \n",
    "            return mid \n",
    "  \n",
    "        # If x is greater, ignore left half \n",
    "        elif arr[mid] < x: \n",
    "            l = mid + 1\n",
    "  \n",
    "        # If x is smaller, ignore right half \n",
    "        else: \n",
    "            r = mid - 1\n",
    "      \n",
    "    # If we reach here, then the element \n",
    "    # was not present \n",
    "    return -1"
   ]
  },
  {
   "cell_type": "markdown",
   "metadata": {},
   "source": [
    "Pair Problem #2\n",
    "Project Euler is a site with a lot of problems you can solve.\n",
    "\n",
    "The following is Problem 8:\n",
    "\n",
    "The four adjacent digits in the 1000-digit number that have the greatest product are 9 × 9 × 8 × 9 = 5832.\n",
    "\n",
    "73167176531330624919225119674426574742355349194934\n",
    "96983520312774506326239578318016984801869478851843\n",
    "85861560789112949495459501737958331952853208805511\n",
    "12540698747158523863050715693290963295227443043557\n",
    "66896648950445244523161731856403098711121722383113\n",
    "62229893423380308135336276614282806444486645238749\n",
    "30358907296290491560440772390713810515859307960866\n",
    "70172427121883998797908792274921901699720888093776\n",
    "65727333001053367881220235421809751254540594752243\n",
    "52584907711670556013604839586446706324415722155397\n",
    "53697817977846174064955149290862569321978468622482\n",
    "83972241375657056057490261407972968652414535100474\n",
    "82166370484403199890008895243450658541227588666881\n",
    "16427171479924442928230863465674813919123162824586\n",
    "17866458359124566529476545682848912883142607690042\n",
    "24219022671055626321111109370544217506941658960408\n",
    "07198403850962455444362981230987879927244284909188\n",
    "84580156166097919133875499200524063689912560717606\n",
    "05886116467109405077541002256983155200055935729725\n",
    "71636269561882670428252483600823257530420752963450\n",
    "Find the thirteen adjacent digits in the 1000-digit number that have the greatest product. What is the value of this product?\n",
    "\n",
    "I'd recommend writing a function. Something like, max_product(numberString,adjacentDigits).\n",
    "\n",
    "What's the complexity of your code? Can you do better?"
   ]
  },
  {
   "cell_type": "code",
   "execution_count": null,
   "metadata": {},
   "outputs": [],
   "source": [
    "def max_product(numberString,numAdjacentDigits):\n",
    "    for i, digit in enumerate(numberString):\n",
    "        product = numberString[i:i+13]"
   ]
  },
  {
   "cell_type": "code",
   "execution_count": null,
   "metadata": {},
   "outputs": [],
   "source": [
    "## simplify process: get product, mulitiply by next number outside of window, divide product by former first\n",
    "#number in window (now outside window) --> This way you don't need to re-multiply the full set every time"
   ]
  }
 ],
 "metadata": {
  "kernelspec": {
   "display_name": "Python 3",
   "language": "python",
   "name": "python3"
  },
  "language_info": {
   "codemirror_mode": {
    "name": "ipython",
    "version": 3
   },
   "file_extension": ".py",
   "mimetype": "text/x-python",
   "name": "python",
   "nbconvert_exporter": "python",
   "pygments_lexer": "ipython3",
   "version": "3.7.2"
  }
 },
 "nbformat": 4,
 "nbformat_minor": 2
}

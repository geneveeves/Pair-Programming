{
 "cells": [
  {
   "cell_type": "markdown",
   "metadata": {},
   "source": [
    "Pair Problem #1: FACTORIAL  \n",
    "Factorial(n) written as n! is the product of all the numbers up to n. 8! = 1 x 2 x 3 x 4 x 5 x 6 x 7 x 8 = 40320\n",
    "\n",
    "Write a function to calculate the factorial of a given number.\n",
    "\n",
    "\tdef factorial(n):\n",
    "Once done, can you rewrite this function using recursion. A recursive function is one that calls itself.\n",
    "\n",
    "Pair Problem #2: FIBONACCI SERIES  \n",
    "Fibonacci series goes like this: 0 1 1 2 3 5 8 13 21 34\n",
    "\n",
    "You start with 0 and 1. Each of the following numbers are the sum of the previous two numbers in the series.\n",
    "\n",
    "Write a function, that given N, will return the Nth number of the Fibonacci series.\n",
    "\n",
    "Once done, can you rewrite this function using recursion."
   ]
  },
  {
   "cell_type": "code",
   "execution_count": 13,
   "metadata": {},
   "outputs": [],
   "source": [
    "#Iterative Solution\n",
    "def getFactorial(number):\n",
    "    x = 1\n",
    "    for i in range(1, number+1):\n",
    "        x = x*i\n",
    "    return x\n"
   ]
  },
  {
   "cell_type": "code",
   "execution_count": 14,
   "metadata": {},
   "outputs": [
    {
     "data": {
      "text/plain": [
       "40320"
      ]
     },
     "execution_count": 14,
     "metadata": {},
     "output_type": "execute_result"
    }
   ],
   "source": [
    "getFactorial(8)"
   ]
  },
  {
   "cell_type": "code",
   "execution_count": 16,
   "metadata": {},
   "outputs": [],
   "source": [
    "#Recursive Solution\n",
    "def factorial_recursive(n):\n",
    "    # Base case: 1! = 1\n",
    "    if n == 1:\n",
    "        return 1\n",
    "\n",
    "    # Recursive case: n! = n * (n-1)!\n",
    "    else:\n",
    "        return n * factorial_recursive(n-1)"
   ]
  },
  {
   "cell_type": "code",
   "execution_count": 17,
   "metadata": {},
   "outputs": [
    {
     "data": {
      "text/plain": [
       "40320"
      ]
     },
     "execution_count": 17,
     "metadata": {},
     "output_type": "execute_result"
    }
   ],
   "source": [
    "factorial_recursive(8)"
   ]
  },
  {
   "cell_type": "code",
   "execution_count": 37,
   "metadata": {},
   "outputs": [],
   "source": [
    "def getFib(n):\n",
    "    n1 = 0\n",
    "    n2 = 1\n",
    "    result = 0\n",
    "    for i in range(n-1):\n",
    "        result = n2 + n1\n",
    "        n1 = n2\n",
    "        n2 = result\n",
    "    return result"
   ]
  },
  {
   "cell_type": "code",
   "execution_count": 38,
   "metadata": {},
   "outputs": [
    {
     "data": {
      "text/plain": [
       "21"
      ]
     },
     "execution_count": 38,
     "metadata": {},
     "output_type": "execute_result"
    }
   ],
   "source": [
    "getFib(8)"
   ]
  },
  {
   "cell_type": "code",
   "execution_count": 39,
   "metadata": {},
   "outputs": [],
   "source": [
    "def getFib_recursive(n):\n",
    "    if n == 0: \n",
    "        return 0\n",
    "    elif n == 1: \n",
    "        return 1\n",
    "    else: \n",
    "        return F(n-1) + F(n-2)"
   ]
  },
  {
   "cell_type": "code",
   "execution_count": 40,
   "metadata": {},
   "outputs": [
    {
     "data": {
      "text/plain": [
       "21"
      ]
     },
     "execution_count": 40,
     "metadata": {},
     "output_type": "execute_result"
    }
   ],
   "source": [
    "getFib_recursive(8)"
   ]
  },
  {
   "cell_type": "code",
   "execution_count": null,
   "metadata": {},
   "outputs": [],
   "source": []
  }
 ],
 "metadata": {
  "kernelspec": {
   "display_name": "Python 3",
   "language": "python",
   "name": "python3"
  },
  "language_info": {
   "codemirror_mode": {
    "name": "ipython",
    "version": 3
   },
   "file_extension": ".py",
   "mimetype": "text/x-python",
   "name": "python",
   "nbconvert_exporter": "python",
   "pygments_lexer": "ipython3",
   "version": "3.7.2"
  }
 },
 "nbformat": 4,
 "nbformat_minor": 2
}

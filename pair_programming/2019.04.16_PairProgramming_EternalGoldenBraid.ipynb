{
 "cells": [
  {
   "cell_type": "markdown",
   "metadata": {},
   "source": [
    "Pair Problem  \n",
    "\n",
    "For the two strings below, given in Python syntax as mmg and geb, make a three-word phrase entirely from words five letters or longer that occur in both selections.  \n",
    "\n",
    "If you finish early, use the time to see if you code is clear and concise. And if not, see if you can do something about that. Feel free to use yesterday's solution as a resource.  \n",
    "\n",
    "mmg = \"\"\"I am the very model of a modern Major-General,  \n",
    "I've information vegetable, animal, and mineral,  \n",
    "I know the kings of England, and I quote the fights historical  \n",
    "From Marathon to Waterloo, in order categorical;  \n",
    "I'm very well acquainted, too, with matters mathematical,  \n",
    "I understand equations, both the simple and quadratical,  \n",
    "About binomial theorem I'm teeming with a lot o' news, (bothered for a rhyme)  \n",
    "With many cheerful facts about the square of the hypotenuse.  \n",
    "I'm very good at integral and differential calculus;  \n",
    "I know the scientific names of beings animalculous:  \n",
    "In short, in matters vegetable, animal, and mineral,  \n",
    "I am the very model of a modern Major-General.  \n",
    "\n",
    "I know our mythic history, King Arthur's and Sir Caradoc's;  \n",
    "I answer hard acrostics, I've a pretty taste for paradox,  \n",
    "I quote in elegiacs all the crimes of Heliogabalus,  \n",
    "In conics I can floor peculiarities parabolous;  \n",
    "I can tell undoubted Raphaels from Gerard Dows and Zoffanies,  \n",
    "I know the croaking chorus from The Frogs of Aristophanes!  \n",
    "Then I can hum a fugue of which I've heard the music's din afore, (bothered for a rhyme)  \n",
    "And whistle all the airs from that infernal nonsense Pinafore.  \n",
    "Then I can write a washing bill in Babylonic cuneiform,  \n",
    "And tell you ev'ry detail of Caractacus's uniform:  \n",
    "In short, in matters vegetable, animal, and mineral,  \n",
    "I am the very model of a modern Major-General.  \n",
    "In fact, when I know what is meant by \"mamelon\" and \"ravelin\",  \n",
    "When I can tell at sight a Mauser rifle from a javelin,  \n",
    "When such affairs as sorties and surprises I'm more wary at,  \n",
    "And when I know precisely what is meant by \"commissariat\",  \n",
    "When I have learnt what progress has been made in modern gunnery,  \n",
    "When I know more of tactics than a novice in a nunnery -  \n",
    "In short, when I've a smattering of elemental strategy - (bothered for a rhyme)  \n",
    "You'll say a better Major-General has never sat a gee.  \n",
    "For my military knowledge, though I'm plucky and adventury,  \n",
    "Has only been brought down to the beginning of the century;  \n",
    "But still, in matters vegetable, animal, and mineral,  \n",
    "I am the very model of a modern Major-General.\"\"\"  \n",
    "\n",
    "geb = \"\"\"Gödel, Escher, Bach: An Eternal Golden Braid, also known as\n",
    "GEB, is a 1979 book by Douglas Hofstadter. The tagline \"a metaphorical\n",
    "fugue on minds and machines in the spirit of Lewis Carroll\" was used\n",
    "by the publisher to describe the book.\n",
    "\n",
    "By exploring common themes in the lives and works of logician Kurt\n",
    "Gödel, artist M. C. Escher and composer Johann Sebastian Bach, GEB\n",
    "expounds concepts fundamental to mathematics, symmetry, and\n",
    "intelligence. Through illustration and analysis, the book discusses\n",
    "how self-reference and formal rules allow systems to acquire meaning\n",
    "despite being made of \"meaningless\" elements. It also discusses what\n",
    "it means to communicate, how knowledge can be represented and stored,\n",
    "the methods and limitations of symbolic representation, and even the\n",
    "fundamental notion of \"meaning\" itself.\n",
    "\n",
    "In response to confusion over the book's theme, Hofstadter has\n",
    "emphasized that GEB is not about mathematics, art, and music but\n",
    "rather about how cognition and thinking emerge from well-hidden\n",
    "neurological mechanisms. In the book, he presents an analogy about how\n",
    "the individual neurons of the brain coordinate to create a unified\n",
    "sense of a coherent mind by comparing it to the social organization\n",
    "displayed in a colony of ants.\"\"\"\n",
    "\n",
    "\n",
    "Text taken from Wikipdia pages Major-General's Song and Gödel, Escher, Bach, with some characters converted to ASCII for convenience."
   ]
  },
  {
   "cell_type": "code",
   "execution_count": 39,
   "metadata": {},
   "outputs": [],
   "source": [
    "mmg = \"\"\"I am the very model of a modern Major-General,\n",
    "I've information vegetable, animal, and mineral,\n",
    "I know the kings of England, and I quote the fights historical\n",
    "From Marathon to Waterloo, in order categorical;\n",
    "I'm very well acquainted, too, with matters mathematical,\n",
    "I understand equations, both the simple and quadratical,\n",
    "About binomial theorem I'm teeming with a lot o' news, (bothered for a rhyme)\n",
    "With many cheerful facts about the square of the hypotenuse.\n",
    "I'm very good at integral and differential calculus;\n",
    "I know the scientific names of beings animalculous:\n",
    "In short, in matters vegetable, animal, and mineral,\n",
    "I am the very model of a modern Major-General.\n",
    "\n",
    "I know our mythic history, King Arthur's and Sir Caradoc's;\n",
    "I answer hard acrostics, I've a pretty taste for paradox,\n",
    "I quote in elegiacs all the crimes of Heliogabalus,\n",
    "In conics I can floor peculiarities parabolous;\n",
    "I can tell undoubted Raphaels from Gerard Dows and Zoffanies,\n",
    "I know the croaking chorus from The Frogs of Aristophanes!\n",
    "Then I can hum a fugue of which I've heard the music's din afore, (bothered for a rhyme)\n",
    "And whistle all the airs from that infernal nonsense Pinafore.\n",
    "Then I can write a washing bill in Babylonic cuneiform,\n",
    "And tell you ev'ry detail of Caractacus's uniform:\n",
    "In short, in matters vegetable, animal, and mineral,\n",
    "I am the very model of a modern Major-General.\n",
    "In fact, when I know what is meant by \"mamelon\" and \"ravelin\",\n",
    "When I can tell at sight a Mauser rifle from a javelin,\n",
    "When such affairs as sorties and surprises I'm more wary at,\n",
    "And when I know precisely what is meant by \"commissariat\",\n",
    "When I have learnt what progress has been made in modern gunnery,\n",
    "When I know more of tactics than a novice in a nunnery -\n",
    "In short, when I've a smattering of elemental strategy - (bothered for a rhyme)\n",
    "You'll say a better Major-General has never sat a gee.\n",
    "For my military knowledge, though I'm plucky and adventury,\n",
    "Has only been brought down to the beginning of the century;\n",
    "But still, in matters vegetable, animal, and mineral,\n",
    "I am the very model of a modern Major-General.\"\"\"\n",
    "\n",
    "geb = \"\"\"Gödel, Escher, Bach: An Eternal Golden Braid, also known as\n",
    "GEB, is a 1979 book by Douglas Hofstadter. The tagline \"a metaphorical\n",
    "fugue on minds and machines in the spirit of Lewis Carroll\" was used\n",
    "by the publisher to describe the book.\n",
    "\n",
    "By exploring common themes in the lives and works of logician Kurt\n",
    "Gödel, artist M. C. Escher and composer Johann Sebastian Bach, GEB\n",
    "expounds concepts fundamental to mathematics, symmetry, and\n",
    "intelligence. Through illustration and analysis, the book discusses\n",
    "how self-reference and formal rules allow systems to acquire meaning\n",
    "despite being made of \"meaningless\" elements. It also discusses what\n",
    "it means to communicate, how knowledge can be represented and stored,\n",
    "the methods and limitations of symbolic representation, and even the\n",
    "fundamental notion of \"meaning\" itself.\n",
    "\n",
    "In response to confusion over the book's theme, Hofstadter has\n",
    "emphasized that GEB is not about mathematics, art, and music but\n",
    "rather about how cognition and thinking emerge from well-hidden\n",
    "neurological mechanisms. In the book, he presents an analogy about how\n",
    "the individual neurons of the brain coordinate to create a unified\n",
    "sense of a coherent mind by comparing it to the social organization\n",
    "displayed in a colony of ants.\"\"\""
   ]
  },
  {
   "cell_type": "code",
   "execution_count": 31,
   "metadata": {},
   "outputs": [],
   "source": [
    "#Remove punctuation and line breaks from strings, then make lists out of words in strings\n",
    "import string\n",
    "translator = str.maketrans('', '', string.punctuation)\n",
    "\n",
    "mmg = mmg.translate(translator).replace('\\n',' ').lower().split(' ')\n",
    "geb = geb.translate(translator).replace('\\n',' ').lower().split(' ')"
   ]
  },
  {
   "cell_type": "code",
   "execution_count": 32,
   "metadata": {},
   "outputs": [],
   "source": [
    "#Check each word in mmg for length, then if it meets length requirement, \n",
    "#check to see if it is present in geb. If word is present in both, append\n",
    "#word to word list\n",
    "\n",
    "word_list = []\n",
    "\n",
    "for word in mmg:\n",
    "    if len(word) >= 5:\n",
    "        if word in geb:\n",
    "            word_list.append(word)"
   ]
  },
  {
   "cell_type": "code",
   "execution_count": 33,
   "metadata": {},
   "outputs": [
    {
     "data": {
      "text/plain": [
       "['about', 'about', 'fugue', 'knowledge']"
      ]
     },
     "execution_count": 33,
     "metadata": {},
     "output_type": "execute_result"
    }
   ],
   "source": [
    "word_list"
   ]
  },
  {
   "cell_type": "code",
   "execution_count": 44,
   "metadata": {},
   "outputs": [],
   "source": [
    "def checkStrings(str1, str2):\n",
    "    import string\n",
    "    import itertools\n",
    "    translator = str.maketrans('', '', string.punctuation)\n",
    "    \n",
    "    str1 = set(str1.translate(translator).replace('\\n',' ').lower().split(' '))\n",
    "    str2 = set(str2.translate(translator).replace('\\n',' ').lower().split(' '))\n",
    "    \n",
    "    union = str1.intersection(str2)\n",
    "    \n",
    "    # Creating list with words with 5 or more letters\n",
    "    five_letter_words = [x for x in union if len(x) >= 5]\n",
    "    \n",
    "    return list(itertools.permutations(five_letter_words, 3))\n",
    "    \n",
    "    #word_list = []\n",
    "\n",
    "    #for word in str1:\n",
    "    #    if len(word) >= 5:\n",
    "    #        if word in str2:\n",
    "    #            word_list.append(word)\n",
    "    \n",
    "    #return set(word_list)\n",
    "    "
   ]
  },
  {
   "cell_type": "code",
   "execution_count": 45,
   "metadata": {},
   "outputs": [
    {
     "data": {
      "text/plain": [
       "[('about', 'fugue', 'knowledge'),\n",
       " ('about', 'knowledge', 'fugue'),\n",
       " ('fugue', 'about', 'knowledge'),\n",
       " ('fugue', 'knowledge', 'about'),\n",
       " ('knowledge', 'about', 'fugue'),\n",
       " ('knowledge', 'fugue', 'about')]"
      ]
     },
     "execution_count": 45,
     "metadata": {},
     "output_type": "execute_result"
    }
   ],
   "source": [
    "checkStrings(mmg, geb)"
   ]
  },
  {
   "cell_type": "code",
   "execution_count": null,
   "metadata": {},
   "outputs": [],
   "source": [
    "def eternal_golden_braid(s1,s2):\n",
    "    for x in [',','\"','(','!','.',':',';']:\n",
    "        # Cleaning s1\n",
    "        s1 = s1.lower().replace(x, '') \n",
    "        # Cleaning s2\n",
    "        s2 = s2.lower().replace(x, '') \n",
    "        \n",
    "    # Creating sets    \n",
    "    s1 = set(s1.split())\n",
    "    s2 = set(s2.split())\n",
    "    \n",
    "    # Finding union of sets\n",
    "    union = s1.intersection(s2)\n",
    "    \n",
    "    # Creating list with words with 5 or more letters\n",
    "    five_letter_words = [x for x in union if len(x) >= 5]\n",
    "    \n",
    "    return list(itertools.permutations(five_letter_words, 3))"
   ]
  }
 ],
 "metadata": {
  "kernelspec": {
   "display_name": "Python 3",
   "language": "python",
   "name": "python3"
  },
  "language_info": {
   "codemirror_mode": {
    "name": "ipython",
    "version": 3
   },
   "file_extension": ".py",
   "mimetype": "text/x-python",
   "name": "python",
   "nbconvert_exporter": "python",
   "pygments_lexer": "ipython3",
   "version": "3.7.2"
  }
 },
 "nbformat": 4,
 "nbformat_minor": 2
}

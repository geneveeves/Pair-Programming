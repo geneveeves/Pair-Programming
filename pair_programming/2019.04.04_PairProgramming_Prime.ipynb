{
 "cells": [
  {
   "cell_type": "code",
   "execution_count": 1,
   "metadata": {},
   "outputs": [],
   "source": [
    "import numpy as np"
   ]
  },
  {
   "cell_type": "markdown",
   "metadata": {},
   "source": [
    "Pair Problem\n",
    "Another one from Project Euler: Problem 3:\n",
    "\n",
    "The prime factors of 13195 are 5, 7, 13 and 29.\n",
    "\n",
    "What is the largest prime factor of the number 600851475143 ?\n",
    "\n",
    "Please do not Google. See how best you can solve this problem on your own.\n",
    "\n",
    "What's your the complexity? Can you do better?\n",
    "\n"
   ]
  },
  {
   "cell_type": "code",
   "execution_count": 37,
   "metadata": {},
   "outputs": [],
   "source": [
    "def LargestPrimeFactor(input_num):\n",
    "    \n",
    "    if input_num <= 1:\n",
    "        return \"No prime factors\"\n",
    "    \n",
    "    prime_factors = []\n",
    "    \n",
    "    for x in range(2, input_num):\n",
    "        \n",
    "        #Check if number is a factor of the input number\n",
    "        if input_num % x == 0:\n",
    "            \n",
    "            #Check if factor is prime\n",
    "            for i in range(2, int(x**0.5)+1):\n",
    "                if x % i == 0:\n",
    "                    break\n",
    "                else:\n",
    "                    prime_factors.append(x)\n",
    "    \n",
    "    return max(prime_factors)\n",
    "                "
   ]
  },
  {
   "cell_type": "code",
   "execution_count": 38,
   "metadata": {},
   "outputs": [
    {
     "data": {
      "text/plain": [
       "2639"
      ]
     },
     "execution_count": 38,
     "metadata": {},
     "output_type": "execute_result"
    }
   ],
   "source": [
    "LargestPrimeFactor(13195)"
   ]
  },
  {
   "cell_type": "code",
   "execution_count": 41,
   "metadata": {},
   "outputs": [],
   "source": [
    "def isprime(n):\n",
    "    for i in range(2, n):\n",
    "        if n%i == 0:\n",
    "            return False\n",
    "    return True\n",
    "\n",
    "\n",
    "def LargestPrimeFactor(n):\n",
    "    uplist = []\n",
    "    \n",
    "    #count up to sqrt of n, and see if the quotient n/i is prime\n",
    "    for i in range(1, int(round(n**0.5)+2)):\n",
    "        if n%i == 0:\n",
    "            uplist = [i] + uplist\n",
    "            if isprime(int(n/i)):\n",
    "                return int(n/i)\n",
    "    #if none of those big n/i numbers are prime, count down the list we saved\n",
    "    for i in uplist:\n",
    "        if isprime(i):\n",
    "            return i\n",
    "    return 'You messed up'"
   ]
  },
  {
   "cell_type": "code",
   "execution_count": 42,
   "metadata": {},
   "outputs": [
    {
     "data": {
      "text/plain": [
       "29"
      ]
     },
     "execution_count": 42,
     "metadata": {},
     "output_type": "execute_result"
    }
   ],
   "source": [
    "LargestPrimeFactor(13195)"
   ]
  },
  {
   "cell_type": "code",
   "execution_count": null,
   "metadata": {},
   "outputs": [],
   "source": []
  },
  {
   "cell_type": "code",
   "execution_count": null,
   "metadata": {},
   "outputs": [],
   "source": []
  },
  {
   "cell_type": "code",
   "execution_count": null,
   "metadata": {},
   "outputs": [],
   "source": []
  },
  {
   "cell_type": "code",
   "execution_count": null,
   "metadata": {},
   "outputs": [],
   "source": []
  }
 ],
 "metadata": {
  "kernelspec": {
   "display_name": "Python 3",
   "language": "python",
   "name": "python3"
  },
  "language_info": {
   "codemirror_mode": {
    "name": "ipython",
    "version": 3
   },
   "file_extension": ".py",
   "mimetype": "text/x-python",
   "name": "python",
   "nbconvert_exporter": "python",
   "pygments_lexer": "ipython3",
   "version": "3.7.2"
  }
 },
 "nbformat": 4,
 "nbformat_minor": 2
}

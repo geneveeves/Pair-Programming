{
 "cells": [
  {
   "cell_type": "code",
   "execution_count": 21,
   "metadata": {},
   "outputs": [],
   "source": [
    "import matplotlib.pylab as plt"
   ]
  },
  {
   "cell_type": "markdown",
   "metadata": {},
   "source": [
    "Pair Problem  \n",
    "The data for this problem are the numbers 2, 7, 1, 5, and 10.\n",
    "\n",
    "We want to know which of the numbers from 0 to 10 (by tenths) gives the smallest result when we do the following:\n",
    "\n",
    "For each of the numbers in the data, subtract the candidate number and then square the result, then add up these numbers.\n",
    "\n",
    "For example, to test the candidate number 8.2, we do the following:\n",
    "\n",
    "2 - 8.2 = -6.2\n",
    "         (-6.2)**2 = 38.44\n",
    "7 - 8.2 = -1.2\n",
    "         (-1.2)**2 = 1.44\n",
    "1 - 8.2 = -7.2\n",
    "         (-7.2)**2 = 51.84\n",
    "5 - 8.2 = -3.2\n",
    "         (-3.2)**2 = 10.24\n",
    "10 - 8.2 = 1.8\n",
    "           1.8**2  = 3.24\n",
    "\n",
    "38.44 + 1.44 + 51.84 + 10.24 + 3.24 = 105.2\n",
    "For candidate number 8.2, the result is 105.2. Can we get a smaller result for any of the other candidate numbers? Try them all and find the candidate number that gives the smallest result.\n",
    "\n",
    "You might identify a shortcut to solving this problem. Write the code to try all the candidate numbers anyway.\n",
    "\n",
    "Once you have an answer, also make a plot to show the results for all the candidate numbers.\n",
    "\n",
    "As an extension, consider what class of problem this exercise represents. Can you write a general solution? Can you write a faster general solution?"
   ]
  },
  {
   "cell_type": "code",
   "execution_count": 7,
   "metadata": {},
   "outputs": [],
   "source": [
    "number_set = [2,7,1,5,10]\n",
    "\n",
    "#Faster general solution: just use average of number set\n",
    "#should use sum of the squares of each num in number set\n",
    "#outlier creates a huge residual (pulls line of best fit off course)\n",
    "#loss function\n",
    "#cost function (sum residuals up across every point) --> results in loss function\n",
    "\n",
    "\n",
    "\n",
    "\n",
    "\n",
    "\n",
    "#Using average of this data set\n",
    "#finds average across all dimensions of the function\n",
    "\n",
    "#linear regression allows us to find the dynamic average across all dimensions"
   ]
  },
  {
   "cell_type": "code",
   "execution_count": 19,
   "metadata": {},
   "outputs": [
    {
     "data": {
      "text/plain": [
       "{0: 179,\n",
       " 0.1: 174.05,\n",
       " 0.2: 169.2,\n",
       " 0.3: 164.45,\n",
       " 0.4: 159.8,\n",
       " 0.5: 155.25,\n",
       " 0.6: 150.8,\n",
       " 0.7: 146.45,\n",
       " 0.8: 142.2,\n",
       " 0.9: 138.05,\n",
       " 1.0: 134.0,\n",
       " 1.1: 130.05,\n",
       " 1.2: 126.2,\n",
       " 1.3: 122.45,\n",
       " 1.4: 118.8,\n",
       " 1.5: 115.25,\n",
       " 1.6: 111.8,\n",
       " 1.7: 108.45,\n",
       " 1.8: 105.2,\n",
       " 1.9: 102.05,\n",
       " 2.0: 99.0,\n",
       " 2.1: 96.05,\n",
       " 2.2: 93.2,\n",
       " 2.3: 90.45,\n",
       " 2.4: 87.8,\n",
       " 2.5: 85.25,\n",
       " 2.6: 82.8,\n",
       " 2.7: 80.45,\n",
       " 2.8: 78.2,\n",
       " 2.9: 76.05,\n",
       " 3.0: 74.0,\n",
       " 3.1: 72.05,\n",
       " 3.2: 70.2,\n",
       " 3.3: 68.45,\n",
       " 3.4: 66.8,\n",
       " 3.5: 65.25,\n",
       " 3.6: 63.8,\n",
       " 3.7: 62.45,\n",
       " 3.8: 61.2,\n",
       " 3.9: 60.05,\n",
       " 4.0: 59.0,\n",
       " 4.1: 58.05,\n",
       " 4.2: 57.2,\n",
       " 4.3: 56.45,\n",
       " 4.4: 55.8,\n",
       " 4.5: 55.25,\n",
       " 4.6: 54.8,\n",
       " 4.7: 54.45,\n",
       " 4.8: 54.2,\n",
       " 4.9: 54.05,\n",
       " 5.0: 54.0,\n",
       " 5.1: 54.05,\n",
       " 5.2: 54.2,\n",
       " 5.3: 54.45,\n",
       " 5.4: 54.8,\n",
       " 5.5: 55.25,\n",
       " 5.6: 55.8,\n",
       " 5.7: 56.45,\n",
       " 5.8: 57.2,\n",
       " 5.9: 58.05,\n",
       " 6.0: 59.0,\n",
       " 6.1: 60.05,\n",
       " 6.2: 61.2,\n",
       " 6.3: 62.45,\n",
       " 6.4: 63.8,\n",
       " 6.5: 65.25,\n",
       " 6.6: 66.8,\n",
       " 6.7: 68.45,\n",
       " 6.8: 70.2,\n",
       " 6.9: 72.05,\n",
       " 7.0: 74.0,\n",
       " 7.1: 76.05,\n",
       " 7.2: 78.2,\n",
       " 7.3: 80.45,\n",
       " 7.4: 82.8,\n",
       " 7.5: 85.25,\n",
       " 7.6: 87.8,\n",
       " 7.7: 90.45,\n",
       " 7.8: 93.2,\n",
       " 7.9: 96.05,\n",
       " 8.0: 99.0,\n",
       " 8.1: 102.05,\n",
       " 8.2: 105.2,\n",
       " 8.3: 108.45,\n",
       " 8.4: 111.8,\n",
       " 8.5: 115.25,\n",
       " 8.6: 118.8,\n",
       " 8.7: 122.45,\n",
       " 8.8: 126.2,\n",
       " 8.9: 130.05,\n",
       " 9.0: 134.0,\n",
       " 9.1: 138.05,\n",
       " 9.2: 142.2,\n",
       " 9.3: 146.45,\n",
       " 9.4: 150.8,\n",
       " 9.5: 155.25,\n",
       " 9.6: 159.8,\n",
       " 9.7: 164.45,\n",
       " 9.8: 169.2,\n",
       " 9.9: 174.05,\n",
       " 10.0: 179.0}"
      ]
     },
     "execution_count": 19,
     "metadata": {},
     "output_type": "execute_result"
    }
   ],
   "source": [
    "def subtract_then_square(candidate, number_set):\n",
    "    result = 0\n",
    "    for number in number_set:\n",
    "        result += (number - candidate)**2\n",
    "    return result\n",
    "\n",
    "\n",
    "final_results = {}  \n",
    "\n",
    "candidate = 0\n",
    "while candidate <= 10:\n",
    "    final_results[round(candidate, 1)] = round(subtract_then_square(candidate, number_set), 4)\n",
    "    candidate += 0.1\n",
    "\n",
    "\n",
    "final_results\n",
    "\n",
    "\n"
   ]
  },
  {
   "cell_type": "code",
   "execution_count": 20,
   "metadata": {},
   "outputs": [
    {
     "name": "stdout",
     "output_type": "stream",
     "text": [
      "[5.0]\n"
     ]
    }
   ],
   "source": [
    "print([key for key, value in final_results.items() if value == min(final_results.values())])"
   ]
  },
  {
   "cell_type": "code",
   "execution_count": 27,
   "metadata": {},
   "outputs": [
    {
     "data": {
      "text/plain": [
       "[<matplotlib.lines.Line2D at 0x11c228ef0>]"
      ]
     },
     "execution_count": 27,
     "metadata": {},
     "output_type": "execute_result"
    },
    {
     "data": {
      "image/png": "[encoded data removed]",
      "text/plain": [
       "<Figure size 432x288 with 1 Axes>"
      ]
     },
     "metadata": {
      "needs_background": "light"
     },
     "output_type": "display_data"
    }
   ],
   "source": [
    "results_list = final_results.items()\n",
    "x, y = zip(*results_list)\n",
    "\n",
    "plt.plot(x, y)"
   ]
  },
  {
   "cell_type": "code",
   "execution_count": null,
   "metadata": {},
   "outputs": [],
   "source": []
  },
  {
   "cell_type": "code",
   "execution_count": null,
   "metadata": {},
   "outputs": [],
   "source": []
  },
  {
   "cell_type": "code",
   "execution_count": null,
   "metadata": {},
   "outputs": [],
   "source": []
  }
 ],
 "metadata": {
  "kernelspec": {
   "display_name": "Python 3",
   "language": "python",
   "name": "python3"
  },
  "language_info": {
   "codemirror_mode": {
    "name": "ipython",
    "version": 3
   },
   "file_extension": ".py",
   "mimetype": "text/x-python",
   "name": "python",
   "nbconvert_exporter": "python",
   "pygments_lexer": "ipython3",
   "version": "3.7.2"
  }
 },
 "nbformat": 4,
 "nbformat_minor": 2
}

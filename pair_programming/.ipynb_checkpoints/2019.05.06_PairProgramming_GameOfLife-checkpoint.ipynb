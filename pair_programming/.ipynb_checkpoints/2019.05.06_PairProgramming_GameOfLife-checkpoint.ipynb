{
 "cells": [
  {
   "cell_type": "markdown",
   "metadata": {},
   "source": [
    "### The Controls  \n",
    " - Choose a figure from the pull-down menu or make one yourself by clicking on the cells with a mouse.\n",
    " - A new generation of cells (corresponding to one iteration of the rules) is initiated by the 'Next' button. \n",
    " - The 'Start' button advances the game by several generations. \n",
    " - Game speed is regulated by the speed dial and the size of the cells with the size dial.\n",
    "\n",
    "\n",
    "### The Rules\n",
    "For a space that is 'populated':\n",
    " - Each cell with one or no neighbors dies, as if by solitude.\n",
    " - Each cell with four or more neighbors dies, as if by overpopulation.\n",
    " - Each cell with two or three neighbors survives.\n",
    "\n",
    "For a space that is 'empty' or 'unpopulated'\n",
    " - Each cell with three neighbors becomes populated."
   ]
  },
  {
   "cell_type": "markdown",
   "metadata": {},
   "source": [
    "Feel free to hardcode the boardsize, speed and starting configuration into your program. And you can make the board out of anything: ones and zeros or pluses and dots. I just want to see the evolution of the board.\n",
    "\n",
    "To update the board, this function is handy:\n",
    "\n",
    "from IPython import display\n",
    "display.clear_output(wait=True)"
   ]
  },
  {
   "cell_type": "code",
   "execution_count": null,
   "metadata": {},
   "outputs": [],
   "source": [
    "1. \n",
    "2. At each time step in the simulation, for each \n",
    "   cell (i, j) in the grid, do the following:\n",
    "   a. Update the value of cell (i, j) based on \n",
    "      its neighbors, taking into account the \n",
    "      boundary conditions.\n",
    "   b. Update the display of grid values."
   ]
  },
  {
   "cell_type": "code",
   "execution_count": 1,
   "metadata": {},
   "outputs": [],
   "source": [
    "# Python code to implement Conway's Game Of Life \n",
    "import argparse \n",
    "import numpy as np \n",
    "import matplotlib.pyplot as plt  \n",
    "import matplotlib.animation as animation \n"
   ]
  },
  {
   "cell_type": "code",
   "execution_count": 2,
   "metadata": {},
   "outputs": [],
   "source": [
    "# Initialize the cells in the grid\n",
    "ON = 255\n",
    "OFF = 0\n",
    "vals = [ON, OFF] "
   ]
  },
  {
   "cell_type": "code",
   "execution_count": 3,
   "metadata": {},
   "outputs": [],
   "source": [
    "#Create NxN grid with random configuration of On/Off values\n",
    "def randomGrid(N): \n",
    "    \"\"\"returns a grid of NxN random values\"\"\"\n",
    "    return np.random.choice(vals, N*N, p=[0.2, 0.8]).reshape(N, N) "
   ]
  },
  {
   "cell_type": "code",
   "execution_count": 4,
   "metadata": {},
   "outputs": [
    {
     "data": {
      "text/plain": [
       "array([[  0, 255,   0, 255,   0,   0,   0,   0,   0, 255],\n",
       "       [255,   0,   0,   0,   0,   0,   0, 255,   0,   0],\n",
       "       [  0,   0, 255, 255,   0,   0,   0,   0,   0,   0],\n",
       "       [255, 255, 255,   0,   0,   0,   0,   0, 255,   0],\n",
       "       [  0,   0,   0, 255,   0,   0,   0,   0,   0,   0],\n",
       "       [  0, 255,   0,   0,   0,   0,   0, 255,   0,   0],\n",
       "       [  0,   0,   0,   0,   0,   0,   0, 255,   0,   0],\n",
       "       [  0, 255, 255,   0, 255, 255,   0,   0,   0,   0],\n",
       "       [255,   0,   0,   0,   0,   0, 255,   0, 255,   0],\n",
       "       [  0,   0,   0,   0,   0,   0, 255,   0,   0,   0]])"
      ]
     },
     "execution_count": 4,
     "metadata": {},
     "output_type": "execute_result"
    }
   ],
   "source": [
    "randomGrid(10)"
   ]
  },
  {
   "cell_type": "code",
   "execution_count": 5,
   "metadata": {},
   "outputs": [],
   "source": [
    "def addGlider(i, j, grid): \n",
    "    \"\"\"adds a glider with top left cell at (i, j)\"\"\"\n",
    "    glider = np.array([[0,    0, 255],  \n",
    "                       [255,  0, 255],  \n",
    "                       [0,  255, 255]]) \n",
    "    grid[i:i+3, j:j+3] = glider "
   ]
  },
  {
   "cell_type": "code",
   "execution_count": null,
   "metadata": {},
   "outputs": [],
   "source": [
    "def addGosperGliderGun(i, j, grid): \n",
    "    \"\"\"adds a Gosper Glider Gun with top left \n",
    "       cell at (i, j)\"\"\"\n",
    "    gun = np.zeros(11*38).reshape(11, 38) \n",
    "  \n",
    "    gun[5][1] = gun[5][2] = 255\n",
    "    gun[6][1] = gun[6][2] = 255\n",
    "  \n",
    "    gun[3][13] = gun[3][14] = 255\n",
    "    gun[4][12] = gun[4][16] = 255\n",
    "    gun[5][11] = gun[5][17] = 255\n",
    "    gun[6][11] = gun[6][15] = gun[6][17] = gun[6][18] = 255\n",
    "    gun[7][11] = gun[7][17] = 255\n",
    "    gun[8][12] = gun[8][16] = 255\n",
    "    gun[9][13] = gun[9][14] = 255\n",
    "  \n",
    "    gun[1][25] = 255\n",
    "    gun[2][23] = gun[2][25] = 255\n",
    "    gun[3][21] = gun[3][22] = 255\n",
    "    gun[4][21] = gun[4][22] = 255\n",
    "    gun[5][21] = gun[5][22] = 255\n",
    "    gun[6][23] = gun[6][25] = 255\n",
    "    gun[7][25] = 255\n",
    "  \n",
    "    gun[3][35] = gun[3][36] = 255\n",
    "    gun[4][35] = gun[4][36] = 255\n",
    "  \n",
    "    grid[i:i+11, j:j+38] = gun \n",
    "    \n",
    "    \n",
    "    \n",
    "    \n"
   ]
  },
  {
   "cell_type": "code",
   "execution_count": null,
   "metadata": {},
   "outputs": [],
   "source": [
    "def update(frameNum, img, grid, N): \n",
    "  \n",
    "    # copy grid since we require 8 neighbors  \n",
    "    # for calculation and we go line by line  \n",
    "    newGrid = grid.copy() \n",
    "    for i in range(N): \n",
    "        for j in range(N): \n",
    "  \n",
    "            # compute 8-neghbor sum \n",
    "            # using toroidal boundary conditions - x and y wrap around  \n",
    "            # so that the simulaton takes place on a toroidal surface. \n",
    "            total = int((grid[i, (j-1)%N] + grid[i, (j+1)%N] + \n",
    "                         grid[(i-1)%N, j] + grid[(i+1)%N, j] + \n",
    "                         grid[(i-1)%N, (j-1)%N] + grid[(i-1)%N, (j+1)%N] + \n",
    "                         grid[(i+1)%N, (j-1)%N] + grid[(i+1)%N, (j+1)%N])/255) \n",
    "  \n",
    "            # apply Conway's rules \n",
    "            if grid[i, j]  == ON: \n",
    "                if (total < 2) or (total > 3): \n",
    "                    newGrid[i, j] = OFF \n",
    "            else: \n",
    "                if total == 3: \n",
    "                    newGrid[i, j] = ON \n",
    "  \n",
    "    # update data \n",
    "    img.set_data(newGrid) \n",
    "    grid[:] = newGrid[:] \n",
    "    return img, \n",
    "\n",
    "\n"
   ]
  },
  {
   "cell_type": "code",
   "execution_count": null,
   "metadata": {},
   "outputs": [],
   "source": [
    "# main() function \n",
    "def main(): \n",
    "  \n",
    "    # Command line args are in sys.argv[1], sys.argv[2] .. \n",
    "    # sys.argv[0] is the script name itself and can be ignored \n",
    "    # parse arguments \n",
    "    parser = argparse.ArgumentParser(description=\"Runs Conway's Game of Life simulation.\") \n",
    "  \n",
    "    # add arguments \n",
    "    parser.add_argument('--grid-size', dest='N', required=False) \n",
    "    parser.add_argument('--mov-file', dest='movfile', required=False) \n",
    "    parser.add_argument('--interval', dest='interval', required=False) \n",
    "    parser.add_argument('--glider', action='store_true', required=False) \n",
    "    parser.add_argument('--gosper', action='store_true', required=False) \n",
    "    args = parser.parse_args() \n",
    "      \n",
    "    # set grid size \n",
    "    N = 100\n",
    "    if args.N and int(args.N) > 8: \n",
    "        N = int(args.N) \n",
    "          \n",
    "    # set animation update interval \n",
    "    updateInterval = 50\n",
    "    if args.interval: \n",
    "        updateInterval = int(args.interval) \n",
    "  \n",
    "    # declare grid \n",
    "    grid = np.array([]) \n",
    "    \n",
    "    \n",
    "    \n",
    "    \n",
    "    # check if \"glider\" demo flag is specified \n",
    "    if args.glider: \n",
    "        grid = np.zeros(N*N).reshape(N, N) \n",
    "        addGlider(1, 1, grid) \n",
    "    elif args.gosper: \n",
    "        grid = np.zeros(N*N).reshape(N, N) \n",
    "        addGosperGliderGun(10, 10, grid) \n",
    "  \n",
    "    else:   # populate grid with random on/off - \n",
    "            # more off than on \n",
    "        grid = randomGrid(N) \n",
    "  \n",
    "    # set up animation \n",
    "    fig, ax = plt.subplots() \n",
    "    img = ax.imshow(grid, interpolation='nearest') \n",
    "    ani = animation.FuncAnimation(fig, update, fargs=(img, grid, N, ), \n",
    "                                  frames = 10, \n",
    "                                  interval=updateInterval, \n",
    "                                  save_count=50) \n",
    "  \n",
    "    # # of frames?  \n",
    "    # set output file \n",
    "    if args.movfile: \n",
    "        ani.save(args.movfile, fps=30, extra_args=['-vcodec', 'libx264']) \n",
    "  \n",
    "    plt.show() \n",
    "    \n",
    "    # call main \n",
    "if __name__ == '__main__': \n",
    "    main() "
   ]
  },
  {
   "cell_type": "markdown",
   "metadata": {},
   "source": [
    "### Simpler Game of Life"
   ]
  },
  {
   "cell_type": "code",
   "execution_count": 10,
   "metadata": {},
   "outputs": [],
   "source": [
    "#Imports\n",
    "import numpy as np\n",
    "import matplotlib.pyplot as plt\n",
    "from IPython import display \n",
    "display.clear_output(wait=True)\n"
   ]
  },
  {
   "cell_type": "code",
   "execution_count": 11,
   "metadata": {
    "scrolled": true
   },
   "outputs": [],
   "source": [
    "#Generate initial 10x10 board with random 1's and 0's \n",
    "initial = np.random.randint(2, size=(10, 10))"
   ]
  },
  {
   "cell_type": "code",
   "execution_count": 12,
   "metadata": {},
   "outputs": [
    {
     "data": {
      "image/png": "[encoded data removed]",
      "text/plain": [
       "<Figure size 432x288 with 1 Axes>"
      ]
     },
     "metadata": {
      "needs_background": "light"
     },
     "output_type": "display_data"
    }
   ],
   "source": [
    "plt.imshow(initial, cmap='binary')\n",
    "plt.show()"
   ]
  },
  {
   "cell_type": "code",
   "execution_count": null,
   "metadata": {},
   "outputs": [],
   "source": [
    "if initial[x, y] and not 2 <= num_neighbours <= 3:\n",
    "    new_universe[x, y] = 0\n",
    "elif num_neighbours == 3:\n",
    "    new_universe[x, y] = 1"
   ]
  },
  {
   "cell_type": "markdown",
   "metadata": {},
   "source": [
    "This is a simple matter of applying our survival function to every cell in the universe, then setting universe to be equal to new_universe."
   ]
  },
  {
   "cell_type": "code",
   "execution_count": null,
   "metadata": {},
   "outputs": [],
   "source": []
  },
  {
   "cell_type": "code",
   "execution_count": null,
   "metadata": {},
   "outputs": [],
   "source": []
  },
  {
   "cell_type": "code",
   "execution_count": 7,
   "metadata": {},
   "outputs": [],
   "source": [
    "#Initialize hard-coded 10x10 game board\n",
    "universe = np.zeros((10, 10))"
   ]
  },
  {
   "cell_type": "code",
   "execution_count": null,
   "metadata": {},
   "outputs": [],
   "source": [
    "# Initialize the cells in the grid\n",
    "ON = 1\n",
    "OFF = 0\n",
    "vals = [ON, OFF] "
   ]
  },
  {
   "cell_type": "code",
   "execution_count": null,
   "metadata": {},
   "outputs": [],
   "source": [
    "#Create NxN grid with random configuration of On/Off values\n",
    "def randomGrid(N): \n",
    "    \"\"\"returns a grid of NxN random values\"\"\"\n",
    "    return np.random.choice(vals, N*N, p=[0.2, 0.8]).reshape(N, N) "
   ]
  },
  {
   "cell_type": "code",
   "execution_count": 8,
   "metadata": {},
   "outputs": [
    {
     "ename": "TypeError",
     "evalue": "only integer scalar arrays can be converted to a scalar index",
     "output_type": "error",
     "traceback": [
      "\u001b[0;31m---------------------------------------------------------------------------\u001b[0m",
      "\u001b[0;31mTypeError\u001b[0m                                 Traceback (most recent call last)",
      "\u001b[0;32m<ipython-input-8-040d0cb543d8>\u001b[0m in \u001b[0;36m<module>\u001b[0;34m\u001b[0m\n\u001b[1;32m      1\u001b[0m \u001b[0;31m#Initial hard-coded configuration\u001b[0m\u001b[0;34m\u001b[0m\u001b[0;34m\u001b[0m\u001b[0;34m\u001b[0m\u001b[0m\n\u001b[0;32m----> 2\u001b[0;31m \u001b[0minitial\u001b[0m \u001b[0;34m=\u001b[0m \u001b[0mrandomGrid\u001b[0m\u001b[0;34m(\u001b[0m\u001b[0muniverse\u001b[0m\u001b[0;34m)\u001b[0m\u001b[0;34m\u001b[0m\u001b[0;34m\u001b[0m\u001b[0m\n\u001b[0m",
      "\u001b[0;32m<ipython-input-3-c125f4a5d9a8>\u001b[0m in \u001b[0;36mrandomGrid\u001b[0;34m(N)\u001b[0m\n\u001b[1;32m      2\u001b[0m \u001b[0;32mdef\u001b[0m \u001b[0mrandomGrid\u001b[0m\u001b[0;34m(\u001b[0m\u001b[0mN\u001b[0m\u001b[0;34m)\u001b[0m\u001b[0;34m:\u001b[0m\u001b[0;34m\u001b[0m\u001b[0;34m\u001b[0m\u001b[0m\n\u001b[1;32m      3\u001b[0m     \u001b[0;34m\"\"\"returns a grid of NxN random values\"\"\"\u001b[0m\u001b[0;34m\u001b[0m\u001b[0;34m\u001b[0m\u001b[0m\n\u001b[0;32m----> 4\u001b[0;31m     \u001b[0;32mreturn\u001b[0m \u001b[0mnp\u001b[0m\u001b[0;34m.\u001b[0m\u001b[0mrandom\u001b[0m\u001b[0;34m.\u001b[0m\u001b[0mchoice\u001b[0m\u001b[0;34m(\u001b[0m\u001b[0mvals\u001b[0m\u001b[0;34m,\u001b[0m \u001b[0mN\u001b[0m\u001b[0;34m*\u001b[0m\u001b[0mN\u001b[0m\u001b[0;34m,\u001b[0m \u001b[0mp\u001b[0m\u001b[0;34m=\u001b[0m\u001b[0;34m[\u001b[0m\u001b[0;36m0.2\u001b[0m\u001b[0;34m,\u001b[0m \u001b[0;36m0.8\u001b[0m\u001b[0;34m]\u001b[0m\u001b[0;34m)\u001b[0m\u001b[0;34m.\u001b[0m\u001b[0mreshape\u001b[0m\u001b[0;34m(\u001b[0m\u001b[0mN\u001b[0m\u001b[0;34m,\u001b[0m \u001b[0mN\u001b[0m\u001b[0;34m)\u001b[0m\u001b[0;34m\u001b[0m\u001b[0;34m\u001b[0m\u001b[0m\n\u001b[0m",
      "\u001b[0;32mmtrand.pyx\u001b[0m in \u001b[0;36mmtrand.RandomState.choice\u001b[0;34m()\u001b[0m\n",
      "\u001b[0;32mmtrand.pyx\u001b[0m in \u001b[0;36mmtrand.RandomState.random_sample\u001b[0;34m()\u001b[0m\n",
      "\u001b[0;32mmtrand.pyx\u001b[0m in \u001b[0;36mmtrand.cont0_array\u001b[0;34m()\u001b[0m\n",
      "\u001b[0;31mTypeError\u001b[0m: only integer scalar arrays can be converted to a scalar index"
     ]
    }
   ],
   "source": [
    "#Initial hard-coded configuration\n",
    "initial = randomGrid(universe)"
   ]
  },
  {
   "cell_type": "code",
   "execution_count": null,
   "metadata": {},
   "outputs": [],
   "source": []
  },
  {
   "cell_type": "code",
   "execution_count": null,
   "metadata": {},
   "outputs": [],
   "source": []
  },
  {
   "cell_type": "code",
   "execution_count": null,
   "metadata": {},
   "outputs": [],
   "source": []
  },
  {
   "cell_type": "code",
   "execution_count": null,
   "metadata": {},
   "outputs": [],
   "source": []
  },
  {
   "cell_type": "code",
   "execution_count": null,
   "metadata": {},
   "outputs": [],
   "source": []
  },
  {
   "cell_type": "code",
   "execution_count": null,
   "metadata": {},
   "outputs": [],
   "source": []
  },
  {
   "cell_type": "code",
   "execution_count": null,
   "metadata": {},
   "outputs": [],
   "source": [
    "\n"
   ]
  }
 ],
 "metadata": {
  "kernelspec": {
   "display_name": "Python 3",
   "language": "python",
   "name": "python3"
  },
  "language_info": {
   "codemirror_mode": {
    "name": "ipython",
    "version": 3
   },
   "file_extension": ".py",
   "mimetype": "text/x-python",
   "name": "python",
   "nbconvert_exporter": "python",
   "pygments_lexer": "ipython3",
   "version": "3.7.2"
  }
 },
 "nbformat": 4,
 "nbformat_minor": 2
}

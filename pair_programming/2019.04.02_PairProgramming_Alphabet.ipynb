{
 "cells": [
  {
   "cell_type": "code",
   "execution_count": 7,
   "metadata": {},
   "outputs": [
    {
     "data": {
      "text/plain": [
       "'fedcba'"
      ]
     },
     "execution_count": 7,
     "metadata": {},
     "output_type": "execute_result"
    }
   ],
   "source": [
    "#Pair Problem #1\n",
    "#Given a string, write a function to reverse it. Do this using a loop, if possible.\n",
    "\n",
    "#reverseString('abcdef') will return 'fedcba'\n",
    "#reverseString('moon') will return 'noom'\n",
    "\n",
    "def reverseString(s): \n",
    "    '''\n",
    "    Function to return a reversed string\n",
    "    '''\n",
    "    #return s[::-1]\n",
    "    new_s = []\n",
    "    i = len(s) - 1\n",
    "    while i >= 0:\n",
    "        new_s.append(s[i])\n",
    "        i -= 1\n",
    "    return ''.join(new_s)\n",
    "\n",
    "reverseString('abcdef')"
   ]
  },
  {
   "cell_type": "code",
   "execution_count": 17,
   "metadata": {},
   "outputs": [
    {
     "data": {
      "text/plain": [
       "'fedcba'"
      ]
     },
     "execution_count": 17,
     "metadata": {},
     "output_type": "execute_result"
    }
   ],
   "source": [
    "def reverseString(input_str): \n",
    "    '''\n",
    "    Function to return a reversed string\n",
    "    '''\n",
    "    return_str = ''\n",
    "    for char in input_str[::-1]:\n",
    "        return_str += (char)\n",
    "    return return_str\n",
    "\n",
    "reverseString('abcdef')"
   ]
  },
  {
   "cell_type": "code",
   "execution_count": 18,
   "metadata": {},
   "outputs": [],
   "source": [
    "#Pair Problem #2\n",
    "#Sal's classroom has a bag of alphabet magnets. \n",
    "#She wants to know if she can spell her friend's name using the letters in the bag. \n",
    "#Write a function that will take a list of letters and a name and print out yes if \n",
    "#the name can be spelled and no otherwise.\n",
    "\n",
    "#CanYouSpell(['y','n','p','g','n','l'],\"lynn\") would print YES\n",
    "#CanYouSpell(['y','n','p','g','l'],\"lynn\") would print NO\n",
    "#When you are done, submit to the Slack channel.\n",
    "\n",
    "def CanYouSpell(char_list, name):\n",
    "    '''\n",
    "    Function taskes a list of letters and a name, will print out YES if the \n",
    "    name can be spelled with the letters in the list of letters and NO\n",
    "    otherwise\n",
    "    '''\n",
    "    name_list = []\n",
    "    for char in name:\n",
    "        if char in char_list:\n",
    "            name_list.append(char)\n",
    "            char_list.pop(char_list.index(char))\n",
    "    if sorted(name_list) == sorted(name):\n",
    "        print('YES')\n",
    "    else:\n",
    "        print('NO')\n",
    "        \n",
    "        \n"
   ]
  },
  {
   "cell_type": "code",
   "execution_count": 12,
   "metadata": {},
   "outputs": [
    {
     "name": "stdout",
     "output_type": "stream",
     "text": [
      "YES\n"
     ]
    }
   ],
   "source": [
    "CanYouSpell(['y','n','p','g','n','l'],\"lynn\")"
   ]
  },
  {
   "cell_type": "code",
   "execution_count": 11,
   "metadata": {},
   "outputs": [
    {
     "name": "stdout",
     "output_type": "stream",
     "text": [
      "NO\n"
     ]
    }
   ],
   "source": [
    "CanYouSpell(['y','n','p','g','l'],\"lynn\")"
   ]
  },
  {
   "cell_type": "code",
   "execution_count": 16,
   "metadata": {},
   "outputs": [
    {
     "data": {
      "text/plain": [
       "['l', 'n', 'n', 'y']"
      ]
     },
     "execution_count": 16,
     "metadata": {},
     "output_type": "execute_result"
    }
   ],
   "source": [
    "sorted('lynn')"
   ]
  },
  {
   "cell_type": "code",
   "execution_count": null,
   "metadata": {},
   "outputs": [],
   "source": []
  }
 ],
 "metadata": {
  "kernelspec": {
   "display_name": "Python 3",
   "language": "python",
   "name": "python3"
  },
  "language_info": {
   "codemirror_mode": {
    "name": "ipython",
    "version": 3
   },
   "file_extension": ".py",
   "mimetype": "text/x-python",
   "name": "python",
   "nbconvert_exporter": "python",
   "pygments_lexer": "ipython3",
   "version": "3.7.2"
  }
 },
 "nbformat": 4,
 "nbformat_minor": 2
}
